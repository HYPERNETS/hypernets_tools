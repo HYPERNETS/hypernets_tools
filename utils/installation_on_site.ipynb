{
 "cells": [
  {
   "cell_type": "markdown",
   "metadata": {},
   "source": [
    "![Hypernets](hypernets/resources/img/logo.png)"
   ]
  },
  {
   "cell_type": "markdown",
   "metadata": {},
   "source": [
    "\n",
    "\n",
    "# Field Deployment  : step by step"
   ]
  },
  {
   "cell_type": "markdown",
   "metadata": {},
   "source": [
    "## &#x2022;  Step 1 : Mechanical position\n",
    "### a) Use a bubble level on the mast to ensure the verticality\n",
    "\n",
    "![pantilt_level](hypernets/resources/img/pan_tilt_bubble.png)\n",
    "\n",
    "\n",
    "### b) Move the instrument into a horizontal position and adjust tilt if necessary (instrument must be horizontal when 90° or -90° is asked)\n",
    "\n",
    "Edit config : http://10.42.0.1:8888/edit/config_hypernets.ini"
   ]
  },
  {
   "cell_type": "code",
   "execution_count": 15,
   "metadata": {
    "scrolled": true
   },
   "outputs": [
    {
     "data": {
      "application/vnd.jupyter.widget-view+json": {
       "model_id": "52a7e718bdd34c3c963560fc59fd800a",
       "version_major": 2,
       "version_minor": 0
      },
      "text/plain": [
       "HBox(children=(VBox(children=(Button(description='Power Relay On', style=ButtonStyle()), Button(description='M…"
      ]
     },
     "metadata": {},
     "output_type": "display_data"
    }
   ],
   "source": [
    "from ipywidgets import HBox, VBox, FloatText, Button\n",
    "from IPython.display import display\n",
    "\n",
    "pan = FloatText(description=\"Pan :\")\n",
    "tilt = FloatText(description=\"Tilt :\")\n",
    "\n",
    "power = Button(description=\"Power Relay On\")\n",
    "move = Button(description=\"Move Pan-Tilt\")\n",
    "\n",
    "@power.on_click\n",
    "def power_relay_on(_):\n",
    "    from hypernets.yocto.relay import set_state_relay\n",
    "    set_state_relay([3], \"on\")\n",
    "\n",
    "@move.on_click\n",
    "def move_pan_tilt(_):\n",
    "    from hypernets.geometry.pan_tilt import move_to\n",
    "    move_to(None, pan.value, tilt.value, wait=False)\n",
    "\n",
    "display(HBox((VBox((power, move)), VBox((pan, tilt)))))"
   ]
  },
  {
   "cell_type": "markdown",
   "metadata": {},
   "source": [
    "## &#x2022;  Step 2 : Yoctopuce\n",
    "### (meteo / GPS)"
   ]
  },
  {
   "cell_type": "code",
   "execution_count": 18,
   "metadata": {},
   "outputs": [
    {
     "data": {
      "application/vnd.jupyter.widget-view+json": {
       "model_id": "4823a5fc18e14ded8ab622a2eb10b4ae",
       "version_major": 2,
       "version_minor": 0
      },
      "text/plain": [
       "VBox(children=(HBox(children=(Button(description='Get GPS location', style=ButtonStyle()), Label(value=''))), …"
      ]
     },
     "metadata": {},
     "output_type": "display_data"
    },
    {
     "ename": "TraitError",
     "evalue": "The 'value' trait of a Label instance expected a unicode string, not the tuple (0.0, 0.0, b'N/A').",
     "output_type": "error",
     "traceback": [
      "\u001b[0;31m---------------------------------------------------------------------------\u001b[0m",
      "\u001b[0;31mTraitError\u001b[0m                                Traceback (most recent call last)",
      "\u001b[0;32m/tmp/ipykernel_5319/2385187186.py\u001b[0m in \u001b[0;36mshow_gps_coords\u001b[0;34m(_)\u001b[0m\n\u001b[1;32m     12\u001b[0m \u001b[0;32mdef\u001b[0m \u001b[0mshow_gps_coords\u001b[0m\u001b[0;34m(\u001b[0m\u001b[0m_\u001b[0m\u001b[0;34m)\u001b[0m\u001b[0;34m:\u001b[0m\u001b[0;34m\u001b[0m\u001b[0;34m\u001b[0m\u001b[0m\n\u001b[1;32m     13\u001b[0m     \u001b[0;32mfrom\u001b[0m \u001b[0mhypernets\u001b[0m\u001b[0;34m.\u001b[0m\u001b[0myocto\u001b[0m\u001b[0;34m.\u001b[0m\u001b[0mgps\u001b[0m \u001b[0;32mimport\u001b[0m \u001b[0mget_gps\u001b[0m\u001b[0;34m\u001b[0m\u001b[0;34m\u001b[0m\u001b[0m\n\u001b[0;32m---> 14\u001b[0;31m     \u001b[0mgps_lbl\u001b[0m\u001b[0;34m.\u001b[0m\u001b[0mvalue\u001b[0m \u001b[0;34m=\u001b[0m \u001b[0mget_gps\u001b[0m\u001b[0;34m(\u001b[0m\u001b[0mreturn_float\u001b[0m\u001b[0;34m=\u001b[0m\u001b[0;32mFalse\u001b[0m\u001b[0;34m)\u001b[0m\u001b[0;34m\u001b[0m\u001b[0;34m\u001b[0m\u001b[0m\n\u001b[0m\u001b[1;32m     15\u001b[0m \u001b[0;34m\u001b[0m\u001b[0m\n\u001b[1;32m     16\u001b[0m \u001b[0;34m@\u001b[0m\u001b[0mmeteo\u001b[0m\u001b[0;34m.\u001b[0m\u001b[0mon_click\u001b[0m\u001b[0;34m\u001b[0m\u001b[0;34m\u001b[0m\u001b[0m\n",
      "\u001b[0;32m~/.local/lib/python3.9/site-packages/traitlets/traitlets.py\u001b[0m in \u001b[0;36m__set__\u001b[0;34m(self, obj, value)\u001b[0m\n\u001b[1;32m    604\u001b[0m             \u001b[0;32mraise\u001b[0m \u001b[0mTraitError\u001b[0m\u001b[0;34m(\u001b[0m\u001b[0;34m'The \"%s\" trait is read-only.'\u001b[0m \u001b[0;34m%\u001b[0m \u001b[0mself\u001b[0m\u001b[0;34m.\u001b[0m\u001b[0mname\u001b[0m\u001b[0;34m)\u001b[0m\u001b[0;34m\u001b[0m\u001b[0;34m\u001b[0m\u001b[0m\n\u001b[1;32m    605\u001b[0m         \u001b[0;32melse\u001b[0m\u001b[0;34m:\u001b[0m\u001b[0;34m\u001b[0m\u001b[0;34m\u001b[0m\u001b[0m\n\u001b[0;32m--> 606\u001b[0;31m             \u001b[0mself\u001b[0m\u001b[0;34m.\u001b[0m\u001b[0mset\u001b[0m\u001b[0;34m(\u001b[0m\u001b[0mobj\u001b[0m\u001b[0;34m,\u001b[0m \u001b[0mvalue\u001b[0m\u001b[0;34m)\u001b[0m\u001b[0;34m\u001b[0m\u001b[0;34m\u001b[0m\u001b[0m\n\u001b[0m\u001b[1;32m    607\u001b[0m \u001b[0;34m\u001b[0m\u001b[0m\n\u001b[1;32m    608\u001b[0m     \u001b[0;32mdef\u001b[0m \u001b[0m_validate\u001b[0m\u001b[0;34m(\u001b[0m\u001b[0mself\u001b[0m\u001b[0;34m,\u001b[0m \u001b[0mobj\u001b[0m\u001b[0;34m,\u001b[0m \u001b[0mvalue\u001b[0m\u001b[0;34m)\u001b[0m\u001b[0;34m:\u001b[0m\u001b[0;34m\u001b[0m\u001b[0;34m\u001b[0m\u001b[0m\n",
      "\u001b[0;32m~/.local/lib/python3.9/site-packages/traitlets/traitlets.py\u001b[0m in \u001b[0;36mset\u001b[0;34m(self, obj, value)\u001b[0m\n\u001b[1;32m    578\u001b[0m \u001b[0;34m\u001b[0m\u001b[0m\n\u001b[1;32m    579\u001b[0m     \u001b[0;32mdef\u001b[0m \u001b[0mset\u001b[0m\u001b[0;34m(\u001b[0m\u001b[0mself\u001b[0m\u001b[0;34m,\u001b[0m \u001b[0mobj\u001b[0m\u001b[0;34m,\u001b[0m \u001b[0mvalue\u001b[0m\u001b[0;34m)\u001b[0m\u001b[0;34m:\u001b[0m\u001b[0;34m\u001b[0m\u001b[0;34m\u001b[0m\u001b[0m\n\u001b[0;32m--> 580\u001b[0;31m         \u001b[0mnew_value\u001b[0m \u001b[0;34m=\u001b[0m \u001b[0mself\u001b[0m\u001b[0;34m.\u001b[0m\u001b[0m_validate\u001b[0m\u001b[0;34m(\u001b[0m\u001b[0mobj\u001b[0m\u001b[0;34m,\u001b[0m \u001b[0mvalue\u001b[0m\u001b[0;34m)\u001b[0m\u001b[0;34m\u001b[0m\u001b[0;34m\u001b[0m\u001b[0m\n\u001b[0m\u001b[1;32m    581\u001b[0m         \u001b[0;32mtry\u001b[0m\u001b[0;34m:\u001b[0m\u001b[0;34m\u001b[0m\u001b[0;34m\u001b[0m\u001b[0m\n\u001b[1;32m    582\u001b[0m             \u001b[0mold_value\u001b[0m \u001b[0;34m=\u001b[0m \u001b[0mobj\u001b[0m\u001b[0;34m.\u001b[0m\u001b[0m_trait_values\u001b[0m\u001b[0;34m[\u001b[0m\u001b[0mself\u001b[0m\u001b[0;34m.\u001b[0m\u001b[0mname\u001b[0m\u001b[0;34m]\u001b[0m\u001b[0;34m\u001b[0m\u001b[0;34m\u001b[0m\u001b[0m\n",
      "\u001b[0;32m~/.local/lib/python3.9/site-packages/traitlets/traitlets.py\u001b[0m in \u001b[0;36m_validate\u001b[0;34m(self, obj, value)\u001b[0m\n\u001b[1;32m    610\u001b[0m             \u001b[0;32mreturn\u001b[0m \u001b[0mvalue\u001b[0m\u001b[0;34m\u001b[0m\u001b[0;34m\u001b[0m\u001b[0m\n\u001b[1;32m    611\u001b[0m         \u001b[0;32mif\u001b[0m \u001b[0mhasattr\u001b[0m\u001b[0;34m(\u001b[0m\u001b[0mself\u001b[0m\u001b[0;34m,\u001b[0m \u001b[0;34m'validate'\u001b[0m\u001b[0;34m)\u001b[0m\u001b[0;34m:\u001b[0m\u001b[0;34m\u001b[0m\u001b[0;34m\u001b[0m\u001b[0m\n\u001b[0;32m--> 612\u001b[0;31m             \u001b[0mvalue\u001b[0m \u001b[0;34m=\u001b[0m \u001b[0mself\u001b[0m\u001b[0;34m.\u001b[0m\u001b[0mvalidate\u001b[0m\u001b[0;34m(\u001b[0m\u001b[0mobj\u001b[0m\u001b[0;34m,\u001b[0m \u001b[0mvalue\u001b[0m\u001b[0;34m)\u001b[0m\u001b[0;34m\u001b[0m\u001b[0;34m\u001b[0m\u001b[0m\n\u001b[0m\u001b[1;32m    613\u001b[0m         \u001b[0;32mif\u001b[0m \u001b[0mobj\u001b[0m\u001b[0;34m.\u001b[0m\u001b[0m_cross_validation_lock\u001b[0m \u001b[0;32mis\u001b[0m \u001b[0;32mFalse\u001b[0m\u001b[0;34m:\u001b[0m\u001b[0;34m\u001b[0m\u001b[0;34m\u001b[0m\u001b[0m\n\u001b[1;32m    614\u001b[0m             \u001b[0mvalue\u001b[0m \u001b[0;34m=\u001b[0m \u001b[0mself\u001b[0m\u001b[0;34m.\u001b[0m\u001b[0m_cross_validate\u001b[0m\u001b[0;34m(\u001b[0m\u001b[0mobj\u001b[0m\u001b[0;34m,\u001b[0m \u001b[0mvalue\u001b[0m\u001b[0;34m)\u001b[0m\u001b[0;34m\u001b[0m\u001b[0;34m\u001b[0m\u001b[0m\n",
      "\u001b[0;32m~/.local/lib/python3.9/site-packages/traitlets/traitlets.py\u001b[0m in \u001b[0;36mvalidate\u001b[0;34m(self, obj, value)\u001b[0m\n\u001b[1;32m   2188\u001b[0m                 \u001b[0mmsg\u001b[0m \u001b[0;34m=\u001b[0m \u001b[0;34m\"Could not decode {!r} for unicode trait '{}' of {} instance.\"\u001b[0m\u001b[0;34m\u001b[0m\u001b[0;34m\u001b[0m\u001b[0m\n\u001b[1;32m   2189\u001b[0m                 \u001b[0;32mraise\u001b[0m \u001b[0mTraitError\u001b[0m\u001b[0;34m(\u001b[0m\u001b[0mmsg\u001b[0m\u001b[0;34m.\u001b[0m\u001b[0mformat\u001b[0m\u001b[0;34m(\u001b[0m\u001b[0mvalue\u001b[0m\u001b[0;34m,\u001b[0m \u001b[0mself\u001b[0m\u001b[0;34m.\u001b[0m\u001b[0mname\u001b[0m\u001b[0;34m,\u001b[0m \u001b[0mclass_of\u001b[0m\u001b[0;34m(\u001b[0m\u001b[0mobj\u001b[0m\u001b[0;34m)\u001b[0m\u001b[0;34m)\u001b[0m\u001b[0;34m)\u001b[0m\u001b[0;34m\u001b[0m\u001b[0;34m\u001b[0m\u001b[0m\n\u001b[0;32m-> 2190\u001b[0;31m         \u001b[0mself\u001b[0m\u001b[0;34m.\u001b[0m\u001b[0merror\u001b[0m\u001b[0;34m(\u001b[0m\u001b[0mobj\u001b[0m\u001b[0;34m,\u001b[0m \u001b[0mvalue\u001b[0m\u001b[0;34m)\u001b[0m\u001b[0;34m\u001b[0m\u001b[0;34m\u001b[0m\u001b[0m\n\u001b[0m\u001b[1;32m   2191\u001b[0m \u001b[0;34m\u001b[0m\u001b[0m\n\u001b[1;32m   2192\u001b[0m     \u001b[0;32mdef\u001b[0m \u001b[0mfrom_string\u001b[0m\u001b[0;34m(\u001b[0m\u001b[0mself\u001b[0m\u001b[0;34m,\u001b[0m \u001b[0ms\u001b[0m\u001b[0;34m)\u001b[0m\u001b[0;34m:\u001b[0m\u001b[0;34m\u001b[0m\u001b[0;34m\u001b[0m\u001b[0m\n",
      "\u001b[0;32m~/.local/lib/python3.9/site-packages/traitlets/traitlets.py\u001b[0m in \u001b[0;36merror\u001b[0;34m(self, obj, value, error, info)\u001b[0m\n\u001b[1;32m    690\u001b[0m                     e = \"The '%s' trait expected %s, not %s.\" % (\n\u001b[1;32m    691\u001b[0m                         self.name, self.info(), describe(\"the\", value))\n\u001b[0;32m--> 692\u001b[0;31m                 \u001b[0;32mraise\u001b[0m \u001b[0mTraitError\u001b[0m\u001b[0;34m(\u001b[0m\u001b[0me\u001b[0m\u001b[0;34m)\u001b[0m\u001b[0;34m\u001b[0m\u001b[0;34m\u001b[0m\u001b[0m\n\u001b[0m\u001b[1;32m    693\u001b[0m \u001b[0;34m\u001b[0m\u001b[0m\n\u001b[1;32m    694\u001b[0m     \u001b[0;32mdef\u001b[0m \u001b[0mget_metadata\u001b[0m\u001b[0;34m(\u001b[0m\u001b[0mself\u001b[0m\u001b[0;34m,\u001b[0m \u001b[0mkey\u001b[0m\u001b[0;34m,\u001b[0m \u001b[0mdefault\u001b[0m\u001b[0;34m=\u001b[0m\u001b[0;32mNone\u001b[0m\u001b[0;34m)\u001b[0m\u001b[0;34m:\u001b[0m\u001b[0;34m\u001b[0m\u001b[0;34m\u001b[0m\u001b[0m\n",
      "\u001b[0;31mTraitError\u001b[0m: The 'value' trait of a Label instance expected a unicode string, not the tuple (0.0, 0.0, b'N/A')."
     ]
    }
   ],
   "source": [
    "from ipywidgets import HBox, VBox, Button, Label\n",
    "from IPython.display import display\n",
    "\n",
    "gps_show = Button(description=\"Get GPS location\")\n",
    "meteo = Button(description=\"Get Meteo Data\")\n",
    "\n",
    "gps_lbl = Label(value=\"\")\n",
    "meteo_lbl = Label(value=\"\")\n",
    "\n",
    "\n",
    "@gps_show.on_click\n",
    "def show_gps_coords(_):\n",
    "    from hypernets.yocto.gps import get_gps\n",
    "    gps_lbl.value = get_gps(return_float=False)\n",
    "    \n",
    "@meteo.on_click\n",
    "def show_meteo(_):\n",
    "    from hypernets.yocto.meteo import get_meteo\n",
    "    v_meteo = \"   \".join([str(val) + unit for val, unit in get_meteo()])\n",
    "    meteo_lbl.value = v_meteo\n",
    "    \n",
    "display(VBox((HBox((gps_show, gps_lbl)), HBox((meteo, meteo_lbl)))))"
   ]
  },
  {
   "cell_type": "markdown",
   "metadata": {},
   "source": [
    "Here, you should double check if the [GPS] latitude and longitude are good in your configuration file :\n",
    "http://10.42.0.1:8888/edit/config_hypernets.ini\n"
   ]
  },
  {
   "cell_type": "markdown",
   "metadata": {},
   "source": [
    "## &#x2022; Step 3 : Point to the Sun :"
   ]
  },
  {
   "cell_type": "code",
   "execution_count": 20,
   "metadata": {},
   "outputs": [
    {
     "data": {
      "application/vnd.jupyter.widget-view+json": {
       "model_id": "8910c1b27f8f45f78254fb6ea665650d",
       "version_major": 2,
       "version_minor": 0
      },
      "text/plain": [
       "HBox(children=(Button(description='Point to the Sun', style=ButtonStyle()), Label(value='')))"
      ]
     },
     "metadata": {},
     "output_type": "display_data"
    }
   ],
   "source": [
    "from hypernets.geometry.pan_tilt import move_to\n",
    "from hypernets.geometry.spa_hypernets import spa_from_datetime\n",
    "from ipywidgets import HBox, Button, Label\n",
    "from IPython.display import display\n",
    "\n",
    "# point_gps = Button(description=\"Point to the sun\")\n",
    "point_datetime = Button(description=\"Point to the Sun\")\n",
    "\n",
    "# sun_gps_lbl = Label(value=\"\")\n",
    "sun_datetime_lbl = Label(value=\"\")\n",
    "\n",
    "@point_datetime.on_click\n",
    "def point_sun_datetime(_):\n",
    "    azimuth_sun, zenith_sun = spa_from_datetime()\n",
    "    sun_datetime_lbl.value = f\"Sun position : {azimuth_sun}, {zenith_sun}\"\n",
    "    move_to(None, azimuth_sun, 180-zenith_sun, wait=False)\n",
    "\n",
    "# display(VBox((HBox((point_gps, sun_gps_lbl)), HBox((point_datetime, sun_datetime_lbl)))))\n",
    "display((HBox((point_datetime, sun_datetime_lbl))))"
   ]
  },
  {
   "cell_type": "markdown",
   "metadata": {},
   "source": [
    "## &#x2022; Step 4 : Take a Picture "
   ]
  },
  {
   "cell_type": "code",
   "execution_count": 30,
   "metadata": {
    "scrolled": true
   },
   "outputs": [
    {
     "data": {
      "application/vnd.jupyter.widget-view+json": {
       "model_id": "59397e5ac5ea411bbef3248ea1a9aa3f",
       "version_major": 2,
       "version_minor": 0
      },
      "text/plain": [
       "HBox(children=(Button(description='Power on Instrument', style=ButtonStyle()), Button(description='Take a pict…"
      ]
     },
     "metadata": {},
     "output_type": "display_data"
    },
    {
     "name": "stderr",
     "output_type": "stream",
     "text": [
      "Exception ignored in: <function Hypstar.__del__ at 0x7f3750538b80>\n",
      "Traceback (most recent call last):\n",
      "  File \"/home/r2d2008/hypernets_tools/utils/hypernets/hypstar/libhypstar/python/hypstar_wrapper.py\", line 48, in __del__\n",
      "    self.lib.hypstar_close(self.handle)\n",
      "AttributeError: 'NoneType' object has no attribute 'hypstar_close'\n"
     ]
    },
    {
     "ename": "Exception",
     "evalue": "/dev/radiometer0 timed out!",
     "output_type": "error",
     "traceback": [
      "\u001b[0;31m---------------------------------------------------------------------------\u001b[0m",
      "\u001b[0;31mException\u001b[0m                                 Traceback (most recent call last)",
      "\u001b[0;32m/tmp/ipykernel_5319/3428144519.py\u001b[0m in \u001b[0;36mtake_picture_action\u001b[0;34m(_)\u001b[0m\n\u001b[1;32m     16\u001b[0m \u001b[0;34m@\u001b[0m\u001b[0mtake_pic\u001b[0m\u001b[0;34m.\u001b[0m\u001b[0mon_click\u001b[0m\u001b[0;34m\u001b[0m\u001b[0;34m\u001b[0m\u001b[0m\n\u001b[1;32m     17\u001b[0m \u001b[0;32mdef\u001b[0m \u001b[0mtake_picture_action\u001b[0m\u001b[0;34m(\u001b[0m\u001b[0m_\u001b[0m\u001b[0;34m)\u001b[0m\u001b[0;34m:\u001b[0m\u001b[0;34m\u001b[0m\u001b[0;34m\u001b[0m\u001b[0m\n\u001b[0;32m---> 18\u001b[0;31m     \u001b[0minstrument_instance\u001b[0m \u001b[0;34m=\u001b[0m \u001b[0mHypstarHandler\u001b[0m\u001b[0;34m(\u001b[0m\u001b[0mexpect_boot_packet\u001b[0m\u001b[0;34m=\u001b[0m\u001b[0;32mFalse\u001b[0m\u001b[0;34m)\u001b[0m\u001b[0;34m\u001b[0m\u001b[0;34m\u001b[0m\u001b[0m\n\u001b[0m\u001b[1;32m     19\u001b[0m     \u001b[0;31m# stream = take_picture(return_stream=True)\u001b[0m\u001b[0;34m\u001b[0m\u001b[0;34m\u001b[0m\u001b[0m\n\u001b[1;32m     20\u001b[0m     \u001b[0;31m# pic_sun = Image(stream)\u001b[0m\u001b[0;34m\u001b[0m\u001b[0;34m\u001b[0m\u001b[0m\n",
      "\u001b[0;32m~/hypernets_tools/utils/hypernets/hypstar/handler.py\u001b[0m in \u001b[0;36m__init__\u001b[0;34m(self, instrument_port, instrument_baudrate, instrument_loglevel, expect_boot_packet, boot_timeout)\u001b[0m\n\u001b[1;32m     24\u001b[0m                  expect_boot_packet=True, boot_timeout=30):\n\u001b[1;32m     25\u001b[0m \u001b[0;34m\u001b[0m\u001b[0m\n\u001b[0;32m---> 26\u001b[0;31m         \u001b[0mHypstarHandler\u001b[0m\u001b[0;34m.\u001b[0m\u001b[0mwait_for_instrument_port\u001b[0m\u001b[0;34m(\u001b[0m\u001b[0minstrument_port\u001b[0m\u001b[0;34m)\u001b[0m\u001b[0;34m\u001b[0m\u001b[0;34m\u001b[0m\u001b[0m\n\u001b[0m\u001b[1;32m     27\u001b[0m \u001b[0;34m\u001b[0m\u001b[0m\n\u001b[1;32m     28\u001b[0m         \u001b[0;32mif\u001b[0m \u001b[0mexpect_boot_packet\u001b[0m \u001b[0;32mand\u001b[0m \u001b[0;32mnot\u001b[0m \u001b[0mwait_for_instrument\u001b[0m\u001b[0;34m(\u001b[0m\u001b[0minstrument_port\u001b[0m\u001b[0;34m,\u001b[0m \u001b[0mboot_timeout\u001b[0m\u001b[0;34m)\u001b[0m\u001b[0;34m:\u001b[0m \u001b[0;31m# noqa\u001b[0m\u001b[0;34m\u001b[0m\u001b[0;34m\u001b[0m\u001b[0m\n",
      "\u001b[0;32m~/hypernets_tools/utils/hypernets/hypstar/handler.py\u001b[0m in \u001b[0;36mwait_for_instrument_port\u001b[0;34m(instrument_port)\u001b[0m\n\u001b[1;32m     85\u001b[0m             \u001b[0mdebug\u001b[0m\u001b[0;34m(\u001b[0m\u001b[0;34mf\"Timeout remaining value: {timeout}s\"\u001b[0m\u001b[0;34m)\u001b[0m\u001b[0;34m\u001b[0m\u001b[0;34m\u001b[0m\u001b[0m\n\u001b[1;32m     86\u001b[0m             \u001b[0;32mif\u001b[0m \u001b[0mtimeout\u001b[0m \u001b[0;34m<=\u001b[0m \u001b[0;36m0\u001b[0m\u001b[0;34m:\u001b[0m\u001b[0;34m\u001b[0m\u001b[0;34m\u001b[0m\u001b[0m\n\u001b[0;32m---> 87\u001b[0;31m                 \u001b[0;32mraise\u001b[0m \u001b[0mException\u001b[0m\u001b[0;34m(\u001b[0m\u001b[0;34mf\"{instrument_port} timed out!\"\u001b[0m\u001b[0;34m)\u001b[0m\u001b[0;34m\u001b[0m\u001b[0;34m\u001b[0m\u001b[0m\n\u001b[0m\u001b[1;32m     88\u001b[0m                 \u001b[0mexit\u001b[0m\u001b[0;34m(\u001b[0m\u001b[0;36m27\u001b[0m\u001b[0;34m)\u001b[0m\u001b[0;34m\u001b[0m\u001b[0;34m\u001b[0m\u001b[0m\n\u001b[1;32m     89\u001b[0m \u001b[0;34m\u001b[0m\u001b[0m\n",
      "\u001b[0;31mException\u001b[0m: /dev/radiometer0 timed out!"
     ]
    }
   ],
   "source": [
    "from hypernets.hypstar.handler import HypstarHandler\n",
    "from IPython.display import Image\n",
    "from ipywidgets import HBox, Button, Label\n",
    "from IPython.display import display\n",
    "\n",
    "power_inst = Button(description=\"Power on Instrument\")\n",
    "take_pic = Button(description=\"Take a picture\")\n",
    "\n",
    "output_lbl = Label(value=\"\")\n",
    "\n",
    "@power_inst.on_click\n",
    "def power_relay_on(_):\n",
    "    from hypernets.yocto.relay import set_state_relay\n",
    "    set_state_relay([2], \"on\")\n",
    "\n",
    "@take_pic.on_click\n",
    "def take_picture_action(_):\n",
    "    instrument_instance = HypstarHandler(expect_boot_packet=False)\n",
    "    # stream = take_picture(return_stream=True)\n",
    "    # pic_sun = Image(stream)\n",
    "    if take_picture():\n",
    "        output_lbl.value = \"ok (see http://10.42.0.1:8888/tree/DATA)\"\n",
    "    else:\n",
    "        output_lbl.value = \"error\"\n",
    "        \n",
    "    # display(pic_sun)\n",
    "\n",
    "display(HBox((power_inst, take_pic, output_lbl)))"
   ]
  },
  {
   "cell_type": "markdown",
   "metadata": {},
   "source": [
    "## &#x2022; Take Spectrum (in progress...)"
   ]
  },
  {
   "cell_type": "code",
   "execution_count": 24,
   "metadata": {},
   "outputs": [
    {
     "data": {
      "application/vnd.jupyter.widget-view+json": {
       "model_id": "c375d5a14663437591e86ad6286ca5a9",
       "version_major": 2,
       "version_minor": 0
      },
      "text/plain": [
       "HBox(children=(VBox(children=(Dropdown(description='Radiometer', options=('VNIR', 'SWIR', 'BOTH'), value='VNIR…"
      ]
     },
     "metadata": {},
     "output_type": "display_data"
    }
   ],
   "source": [
    "from ipywidgets import Combobox, ToggleButtons, Dropdown, VBox, HBox\n",
    "\n",
    "radiometer = Dropdown(description='Radiometer', options=['VNIR', 'SWIR', 'BOTH'])\n",
    "entrance = Dropdown(description='Entrance', options=['Radiance', 'Irradiance', 'Dark'])\n",
    "IT_Vnir = Dropdown(description='IT_Vnir', options=tuple([0]+[pow(2, i) for i in range(16)]))\n",
    "IT_Swir = Dropdown(description='IT_Swir', options=tuple([0]+[pow(2, i) for i in range(16)]))\n",
    "\n",
    "out = HBox([VBox([radiometer, entrance]), VBox([IT_Vnir, IT_Swir])])\n",
    "display(out)"
   ]
  },
  {
   "cell_type": "code",
   "execution_count": 26,
   "metadata": {},
   "outputs": [
    {
     "name": "stdout",
     "output_type": "stream",
     "text": [
      "=============================== METADATA PREVIEW ===============================\n",
      "[Metadata]\n",
      "principal_investigator = Investigator Name\n",
      "datetime = 20211208T151437\n",
      "site_id = A Site ID\n",
      "hypstar_sn = 123456\n",
      "latitude = -35\n",
      "longitude = -58\n",
      "protocol_file_name = hypernets/resources/sequences_samples/sequence_water_noinstrument.txt\n",
      "\n",
      "================================================================================\n"
     ]
    }
   ],
   "source": [
    "from hypernets.abstract.create_metadata import parse_config_metadata\n",
    "print(\"=\" * 31 + \" METADATA PREVIEW \" + \"=\" * 31)\n",
    "print(parse_config_metadata())\n",
    "print(\"=\" * 80)"
   ]
  },
  {
   "cell_type": "raw",
   "metadata": {},
   "source": []
  }
 ],
 "metadata": {
  "kernelspec": {
   "display_name": "Python 3 (ipykernel)",
   "language": "python",
   "name": "python3"
  },
  "language_info": {
   "codemirror_mode": {
    "name": "ipython",
    "version": 3
   },
   "file_extension": ".py",
   "mimetype": "text/x-python",
   "name": "python",
   "nbconvert_exporter": "python",
   "pygments_lexer": "ipython3",
   "version": "3.9.7"
  }
 },
 "nbformat": 4,
 "nbformat_minor": 4
}
