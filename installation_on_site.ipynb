{
 "cells": [
  {
   "cell_type": "markdown",
   "metadata": {},
   "source": [
    "![Hypernets](hypernets/resources/img/logo.png)"
   ]
  },
  {
   "cell_type": "markdown",
   "metadata": {},
   "source": [
    "\n",
    "\n",
    "# Field Deployment  : step by step"
   ]
  },
  {
   "cell_type": "markdown",
   "metadata": {},
   "source": [
    "## &#x2022;  Step 1 : Mechanical position\n",
    "### a) Use a bubble level on the mast to ensure the verticality\n",
    "\n",
    "![pantilt_level](hypernets/resources/img/pan_tilt_bubble.png)\n",
    "\n",
    "\n",
    "### b) Move the instrument into a horizontal position and adjust tilt if necessary (instrument must be horizontal when 90 or -90 asked position)\n",
    "\n",
    "Edit config : http://10.42.0.1:8888/edit/config_hypernets.ini"
   ]
  },
  {
   "cell_type": "code",
   "execution_count": null,
   "metadata": {
    "scrolled": true
   },
   "outputs": [],
   "source": [
    "from ipywidgets import HBox, VBox, FloatText, Button\n",
    "from IPython.display import display\n",
    "\n",
    "pan = FloatText(description=\"Pan :\")\n",
    "tilt = FloatText(description=\"Tilt :\")\n",
    "\n",
    "power = Button(description=\"Power Relay On\")\n",
    "move = Button(description=\"Move Pan-Tilt\")\n",
    "\n",
    "@power.on_click\n",
    "def power_relay_on(_):\n",
    "    from hypernets.scripts.relay_command import set_state_relay\n",
    "    set_state_relay(2, \"on\")\n",
    "    set_state_relay(3, \"on\")\n",
    "    set_state_relay(4, \"on\") # pan-tilt is on relay4 at lov\n",
    "\n",
    "@move.on_click\n",
    "def move_pan_tilt(_):\n",
    "    from hypernets.scripts.pan_tilt import move_to\n",
    "    move_to(None, pan.value, tilt.value, verbose=False, wait=False)\n",
    "\n",
    "display(HBox((VBox((power, move)), VBox((pan, tilt)))))"
   ]
  },
  {
   "cell_type": "markdown",
   "metadata": {},
   "source": [
    "## &#x2022;  Step 2 : Yoctopuce\n",
    "### (meteo / GPS)"
   ]
  },
  {
   "cell_type": "code",
   "execution_count": null,
   "metadata": {},
   "outputs": [],
   "source": [
    "from ipywidgets import HBox, VBox, Button, Label\n",
    "from IPython.display import display\n",
    "\n",
    "gps_show = Button(description=\"Get GPS location\")\n",
    "meteo = Button(description=\"Get Meteo Data\")\n",
    "\n",
    "gps_lbl = Label(value=\"\")\n",
    "meteo_lbl = Label(value=\"\")\n",
    "\n",
    "\n",
    "@gps_show.on_click\n",
    "def show_gps_coords(_):\n",
    "    from hypernets.scripts.yocto_gps import get_gps\n",
    "    gps_lbl.value = get_gps(return_float=False)\n",
    "    \n",
    "@meteo.on_click\n",
    "def show_meteo(_):\n",
    "    from hypernets.scripts.yocto_meteo import get_meteo\n",
    "    v_meteo = \"   \".join([str(val) + unit for val, unit in get_meteo()])\n",
    "    meteo_lbl.value = v_meteo\n",
    "    \n",
    "display(VBox((HBox((gps_show, gps_lbl)), HBox((meteo, meteo_lbl)))))"
   ]
  },
  {
   "cell_type": "markdown",
   "metadata": {},
   "source": [
    "Here, you should double check if the [GPS] latitude and longitude are good in your configuration file :\n",
    "http://10.42.0.1:8888/edit/config_hypernets.ini\n"
   ]
  },
  {
   "cell_type": "markdown",
   "metadata": {},
   "source": [
    "## &#x2022; Step 3 : Point to the Sun :"
   ]
  },
  {
   "cell_type": "code",
   "execution_count": null,
   "metadata": {},
   "outputs": [],
   "source": [
    "from hypernets.scripts.pan_tilt import move_to\n",
    "from hypernets.scripts.spa.spa_hypernets import spa_from_datetime\n",
    "from ipywidgets import HBox, Button, Label\n",
    "from IPython.display import display\n",
    "\n",
    "# point_gps = Button(description=\"Point to the sun\")\n",
    "point_datetime = Button(description=\"Point to the Sun\")\n",
    "\n",
    "# sun_gps_lbl = Label(value=\"\")\n",
    "sun_datetime_lbl = Label(value=\"\")\n",
    "\n",
    "@point_datetime.on_click\n",
    "def point_sun_datetime(_):\n",
    "    azimuth_sun, zenith_sun = spa_from_datetime()\n",
    "    sun_datetime_lbl.value = f\"Sun position : {azimuth_sun}, {zenith_sun}\"\n",
    "    move_to(None, azimuth_sun, 180-zenith_sun, verbose=False, wait=False)\n",
    "\n",
    "# display(VBox((HBox((point_gps, sun_gps_lbl)), HBox((point_datetime, sun_datetime_lbl)))))\n",
    "display((HBox((point_datetime, sun_datetime_lbl))))"
   ]
  },
  {
   "cell_type": "markdown",
   "metadata": {},
   "source": [
    "## &#x2022; Step 4 : Take a Picture "
   ]
  },
  {
   "cell_type": "code",
   "execution_count": null,
   "metadata": {
    "scrolled": true
   },
   "outputs": [],
   "source": [
    "from hypernets.scripts.call_radiometer import take_picture\n",
    "from IPython.display import Image\n",
    "from ipywidgets import HBox, Button, Label\n",
    "from IPython.display import display\n",
    "\n",
    "power_inst = Button(description=\"Power on Instrument\")\n",
    "take_pic = Button(description=\"Take a picture\")\n",
    "\n",
    "output_lbl = Label(value=\"\")\n",
    "\n",
    "@power_inst.on_click\n",
    "def power_relay_on(_):\n",
    "    from hypernets.scripts.relay_command import set_state_relay\n",
    "    set_state_relay(2, \"on\")\n",
    "\n",
    "@take_pic.on_click\n",
    "def take_picture_action(_):\n",
    "    # stream = take_picture(return_stream=True)\n",
    "    # pic_sun = Image(stream)\n",
    "    if take_picture():\n",
    "        output_lbl.value = \"ok (see http://10.42.0.1:8888/tree/DATA)\"\n",
    "    else:\n",
    "        output_lbl.value = \"error\"\n",
    "        \n",
    "    # display(pic_sun)\n",
    "\n",
    "display(HBox((power_inst, take_pic, output_lbl)))"
   ]
  },
  {
   "cell_type": "markdown",
   "metadata": {},
   "source": [
    "## &#x2022; Take Spectrum (in progress...)"
   ]
  },
  {
   "cell_type": "code",
   "execution_count": null,
   "metadata": {},
   "outputs": [],
   "source": [
    "from ipywidgets import Combobox, ToggleButtons, Dropdown, VBox, HBox\n",
    "\n",
    "radiometer = Dropdown(description='Radiometer', options=['VNIR', 'SWIR', 'BOTH'])\n",
    "entrance = Dropdown(description='Entrance', options=['Radiance', 'Irradiance', 'Dark'])\n",
    "IT_Vnir = Dropdown(description='IT_Vnir', options=tuple([0]+[pow(2, i) for i in range(16)]))\n",
    "IT_Swir = Dropdown(description='IT_Swir', options=tuple([0]+[pow(2, i) for i in range(16)]))\n",
    "\n",
    "out = HBox([VBox([radiometer, entrance]), VBox([IT_Vnir, IT_Swir])])\n",
    "display(out)"
   ]
  },
  {
   "cell_type": "code",
   "execution_count": null,
   "metadata": {},
   "outputs": [],
   "source": [
    "from hypernets.virtual.create_metadata import parse_config_metadata\n",
    "print(\"=\" * 31 + \" METADATA PREVIEW \" + \"=\" * 31)\n",
    "print(parse_config_metadata())\n",
    "print(\"=\" * 80)"
   ]
  },
  {
   "cell_type": "raw",
   "metadata": {},
   "source": []
  }
 ],
 "metadata": {
  "kernelspec": {
   "display_name": "Python 3",
   "language": "python",
   "name": "python3"
  },
  "language_info": {
   "codemirror_mode": {
    "name": "ipython",
    "version": 3
   },
   "file_extension": ".py",
   "mimetype": "text/x-python",
   "name": "python",
   "nbconvert_exporter": "python",
   "pygments_lexer": "ipython3",
   "version": "3.9.1"
  }
 },
 "nbformat": 4,
 "nbformat_minor": 4
}
