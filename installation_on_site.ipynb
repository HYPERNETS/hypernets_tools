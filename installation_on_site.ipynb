{
 "cells": [
  {
   "cell_type": "markdown",
   "metadata": {},
   "source": [
    "![Hypernets](hypernets/resources/img/logo.png)"
   ]
  },
  {
   "cell_type": "markdown",
   "metadata": {},
   "source": [
    "\n",
    "\n",
    "# Field Deployment  : step by step"
   ]
  },
  {
   "cell_type": "markdown",
   "metadata": {},
   "source": [
    "## &#x2022;  Step 1 : Yoctopuce\n",
    "### Make sure you are able to retrieve meteo and GPS signal data "
   ]
  },
  {
   "cell_type": "code",
   "execution_count": null,
   "metadata": {},
   "outputs": [],
   "source": [
    "from ipywidgets import HBox, VBox, Button, Label\n",
    "from IPython.display import display\n",
    "\n",
    "gps_show = Button(description=\"Get GPS location\")\n",
    "meteo = Button(description=\"Get Meteo Data\")\n",
    "\n",
    "gps_lbl = Label(value=\"\")\n",
    "meteo_lbl = Label(value=\"\")\n",
    "\n",
    "\n",
    "@gps_show.on_click\n",
    "def show_gps_coords(_):\n",
    "    from hypernets.scripts.yocto_gps import get_gps\n",
    "    gps_lbl.value = get_gps(return_float=False)\n",
    "    \n",
    "@meteo.on_click\n",
    "def show_meteo(_):\n",
    "    from hypernets.scripts.yocto_meteo import get_meteo\n",
    "    v_meteo = \"   \".join([str(val) + unit for val, unit in get_meteo()])\n",
    "    meteo_lbl.value = v_meteo\n",
    "    \n",
    "display(VBox((HBox((gps_show, gps_lbl)), HBox((meteo, meteo_lbl)))))"
   ]
  },
  {
   "cell_type": "markdown",
   "metadata": {},
   "source": [
    "Here, you should double check if the [GPS] latitude and longitude are good in your configuration file :\n",
    "http://10.42.0.1:8888/edit/config_hypernets.ini\n"
   ]
  },
  {
   "cell_type": "markdown",
   "metadata": {},
   "source": [
    "### &#x2022;  Yocto Relays"
   ]
  },
  {
   "cell_type": "code",
   "execution_count": null,
   "metadata": {},
   "outputs": [],
   "source": [
    "from hypernets.scripts.relay_command import set_state_relay\n",
    "from ipywidgets import HBox, FloatText, Button\n",
    "from IPython.display import display\n",
    "\n",
    "relay_on =  [Button(description=f\"{i} ON\") for i in range(1, 7, 1)]\n",
    "relay_off = [Button(description=f\"{i} OFF\") for i in range(1, 7, 1)]\n",
    "\n",
    "def click_on(b):\n",
    "    id_relay = int(b.description[0])\n",
    "    set_state_relay(id_relay, \"on\")\n",
    "    \n",
    "def click_off(b):\n",
    "    id_relay = int(b.description[0])\n",
    "    set_state_relay(id_relay, \"off\")\n",
    "\n",
    "for relay in relay_on:\n",
    "    relay.on_click(click_on)\n",
    "\n",
    "for relay in relay_off:\n",
    "    relay.on_click(click_off)\n",
    "    \n",
    "display(VBox((HBox((relay_on)), HBox((relay_off)))))"
   ]
  },
  {
   "cell_type": "markdown",
   "metadata": {},
   "source": [
    "## &#x2022;  Step 2 : Mechanical position\n",
    "### a) Use a bubble level on the mast to ensure the verticality\n",
    "\n",
    "![pantilt_level](hypernets/resources/img/pan_tilt_bubble.png)\n",
    "\n",
    "\n",
    "### b) Move the instrument into a horizontal position and adjust tilt if necessary (instrument must be horizontal when 90 or -90 asked position)\n",
    "\n",
    "Edit config : http://10.42.0.1:8888/edit/config_hypernets.ini"
   ]
  },
  {
   "cell_type": "code",
   "execution_count": null,
   "metadata": {
    "scrolled": true
   },
   "outputs": [],
   "source": [
    "from hypernets.scripts.pan_tilt import move_to\n",
    "from ipywidgets import HBox, FloatText, Button\n",
    "from IPython.display import display\n",
    "\n",
    "pan = FloatText(description=\"Pan :\")\n",
    "tilt = FloatText(description=\"Tilt :\")\n",
    "move = Button(description=\"Move Pan-Tilt\")\n",
    "\n",
    "\n",
    "@move.on_click\n",
    "def move_pan_tilt(_):\n",
    "    move_to(None, pan.value, tilt.value, verbose=False, wait=False)\n",
    "\n",
    "display(HBox(((move, pan, tilt))))"
   ]
  },
  {
   "cell_type": "markdown",
   "metadata": {},
   "source": [
    "## &#x2022; Step 3 : Check pointing"
   ]
  },
  {
   "cell_type": "markdown",
   "metadata": {},
   "source": [
    "### Solar Position Algorithm (SPA)\n",
    "Here are two differents ways to compute the sun position : \n",
    "1) According to the GPS values <br/>\n",
    "2) According to utctime from the machine and latitude / longitude of the config_hypernets.ini file.\n"
   ]
  },
  {
   "cell_type": "code",
   "execution_count": null,
   "metadata": {},
   "outputs": [],
   "source": [
    "from hypernets.scripts.spa.spa_hypernets import spa_from_gps, spa_from_datetime\n",
    "\n",
    "print(\"=\"*80 + \"\\nSPA from GPS :\")\n",
    "try:\n",
    "    print(spa_from_gps())\n",
    "    \n",
    "except ValueError as e:\n",
    "    print(f\"Error : {e}\")\n",
    "print(\"=\"*80 + \"\\nSPA from datetime :\")\n",
    "print(spa_from_datetime(verbose=True))"
   ]
  },
  {
   "cell_type": "markdown",
   "metadata": {},
   "source": [
    "### Point to the sun"
   ]
  },
  {
   "cell_type": "code",
   "execution_count": null,
   "metadata": {},
   "outputs": [],
   "source": [
    "from hypernets.scripts.pan_tilt import move_to\n",
    "from hypernets.scripts.spa.spa_hypernets import spa_from_datetime, spa_from_gps\n",
    "from ipywidgets import HBox, Button, Label\n",
    "from IPython.display import display\n",
    "\n",
    "point_gps = Button(description=\"(gps)\")\n",
    "point_datetime = Button(description=\"config lat/long\")\n",
    "\n",
    "sun_gps_lbl = Label(value=\"\")\n",
    "sun_datetime_lbl = Label(value=\"\")\n",
    "\n",
    "@point_datetime.on_click\n",
    "def point_sun_datetime(_):\n",
    "    azimuth_sun, zenith_sun = spa_from_datetime()\n",
    "    sun_datetime_lbl.value = f\"Sun position : {azimuth_sun}, {zenith_sun}\"\n",
    "    move_to(None, azimuth_sun, 180-zenith_sun, verbose=False, wait=False)\n",
    "\n",
    "@point_gps.on_click\n",
    "def point_sun_gps(_):\n",
    "    azimuth_sun, zenith_sun = spa_from_gps()\n",
    "    sun_gps_lbl.value = f\"Sun position : {azimuth_sun}, {zenith_sun}\"\n",
    "    move_to(None, azimuth_sun, 180-zenith_sun, verbose=False, wait=False)    \n",
    "    \n",
    "display(VBox((HBox((point_gps, sun_gps_lbl)), HBox((point_datetime, sun_datetime_lbl)))))\n",
    "#display((HBox((point_datetime, sun_datetime_lbl))))"
   ]
  },
  {
   "cell_type": "markdown",
   "metadata": {},
   "source": [
    "### Take a Picture \n",
    "Turn the instrument on thanks and try take a picture :"
   ]
  },
  {
   "cell_type": "code",
   "execution_count": null,
   "metadata": {
    "scrolled": true
   },
   "outputs": [],
   "source": [
    "from hypernets.scripts.call_radiometer import take_picture\n",
    "from IPython.display import Image\n",
    "from ipywidgets import HBox, Button, Label\n",
    "from IPython.display import display\n",
    "\n",
    "take_pic = Button(description=\"Take a picture\")\n",
    "\n",
    "output_lbl = Label(value=\"\")\n",
    "\n",
    "@take_pic.on_click\n",
    "def take_picture_action(_):\n",
    "    output_lbl.value = \"Wait...\"\n",
    "    try:\n",
    "        take_picture(None)\n",
    "        output_lbl.value = \"Ok (see http://10.42.0.1:8888/tree/DATA)\"\n",
    "        #display(pic_sun)\n",
    "        # stream = take_picture(return_stream=True)\n",
    "        # pic_sun = Image(stream)        \n",
    "    except Exception as e:\n",
    "        output_lbl.value = f\"Error : {e}\"\n",
    "        \n",
    "\n",
    "display(HBox((take_pic, output_lbl)))"
   ]
  },
  {
   "cell_type": "markdown",
   "metadata": {},
   "source": [
    "## &#x2022; Take Spectrum (in progress...)"
   ]
  },
  {
   "cell_type": "code",
   "execution_count": null,
   "metadata": {},
   "outputs": [],
   "source": [
    "from ipywidgets import Combobox, ToggleButtons, Dropdown, VBox, HBox\n",
    "\n",
    "radiometer = Dropdown(description='Radiometer', options=['VNIR', 'SWIR', 'BOTH'])\n",
    "entrance = Dropdown(description='Entrance', options=['Radiance', 'Irradiance', 'Dark'])\n",
    "IT_Vnir = Dropdown(description='IT_Vnir', options=tuple([0]+[pow(2, i) for i in range(16)]))\n",
    "IT_Swir = Dropdown(description='IT_Swir', options=tuple([0]+[pow(2, i) for i in range(16)]))\n",
    "\n",
    "out = HBox([VBox([radiometer, entrance]), VBox([IT_Vnir, IT_Swir])])\n",
    "display(out)"
   ]
  },
  {
   "cell_type": "code",
   "execution_count": null,
   "metadata": {},
   "outputs": [],
   "source": [
    "from hypernets.virtual.create_metadata import parse_config_metadata\n",
    "print(\"=\" * 31 + \" METADATA PREVIEW \" + \"=\" * 31)\n",
    "print(parse_config_metadata())\n",
    "print(\"=\" * 80)"
   ]
  },
  {
   "cell_type": "raw",
   "metadata": {},
   "source": []
  }
 ],
 "metadata": {
  "kernelspec": {
   "display_name": "Python 3",
   "language": "python",
   "name": "python3"
  },
  "language_info": {
   "codemirror_mode": {
    "name": "ipython",
    "version": 3
   },
   "file_extension": ".py",
   "mimetype": "text/x-python",
   "name": "python",
   "nbconvert_exporter": "python",
   "pygments_lexer": "ipython3",
   "version": "3.9.1"
  }
 },
 "nbformat": 4,
 "nbformat_minor": 4
}
